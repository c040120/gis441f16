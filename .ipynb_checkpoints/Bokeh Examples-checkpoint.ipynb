{
 "cells": [
  {
   "cell_type": "code",
   "execution_count": 1,
   "metadata": {
    "collapsed": true
   },
   "outputs": [],
   "source": [
    "import pysal as ps"
   ]
  },
  {
   "cell_type": "code",
   "execution_count": 2,
   "metadata": {
    "collapsed": false
   },
   "outputs": [],
   "source": [
    "shp = ps.open('us_income/us48.shp')"
   ]
  },
  {
   "cell_type": "code",
   "execution_count": 3,
   "metadata": {
    "collapsed": true
   },
   "outputs": [],
   "source": [
    "import geopandas as gpd\n",
    "import pandas as pd\n",
    "import numpy as np\n",
    "import seaborn as sns"
   ]
  },
  {
   "cell_type": "code",
   "execution_count": 4,
   "metadata": {
    "collapsed": false
   },
   "outputs": [],
   "source": [
    "us48 = gpd.read_file(\"us_income/us48.shp\")\n",
    "us48_income = pd.read_csv(\"us_income/usjoin.csv\")\n",
    "us48_income.columns = ['y_' + col for col in us48_income.columns]\n",
    "us48_income.rename(columns={'y_Name':'Name'}, inplace=True)\n",
    "us48_income.rename(columns={'y_STATE_FIPS':'STATE_FIPS'}, inplace=True)\n",
    "us48[\"STATE_FIPS\"] = pd.to_numeric(us48[\"STATE_FIPS\"])\n",
    "us48 = us48.merge(us48_income, on='STATE_FIPS')\n"
   ]
  },
  {
   "cell_type": "code",
   "execution_count": 5,
   "metadata": {
    "collapsed": false
   },
   "outputs": [
    {
     "data": {
      "text/plain": [
       "<matplotlib.axes._subplots.AxesSubplot at 0x1101b2050>"
      ]
     },
     "execution_count": 5,
     "metadata": {},
     "output_type": "execute_result"
    },
    {
     "data": {
      "image/png": "[encoded data removed]",
      "text/plain": [
       "<matplotlib.figure.Figure at 0x110169710>"
      ]
     },
     "metadata": {},
     "output_type": "display_data"
    }
   ],
   "source": [
    "%matplotlib inline\n",
    "us48.plot(color='blue')"
   ]
  },
  {
   "cell_type": "code",
   "execution_count": 6,
   "metadata": {
    "collapsed": false
   },
   "outputs": [],
   "source": [
    "import bokeh as bk\n",
    "from collections import OrderedDict\n",
    "from bokeh.charts import Scatter, output_file, show\n",
    "from bokeh.models import HoverTool, LogColorMapper,CustomJS,Label\n",
    "from bokeh.plotting import figure, show, output_file, ColumnDataSource\n",
    "from bokeh.palettes import Viridis6 as palette\n",
    "from bokeh.layouts import row,widgetbox,gridplot,layout\n",
    "from bokeh.models.widgets import Button, RadioButtonGroup, Select, Slider"
   ]
  },
  {
   "cell_type": "code",
   "execution_count": 7,
   "metadata": {
    "collapsed": false,
    "scrolled": true
   },
   "outputs": [],
   "source": [
    "def gpd_bokeh(df):\n",
    "    \"\"\"Convert geometries from geopandas to bokeh format\"\"\"\n",
    "    nan = float('nan')\n",
    "    lons = []\n",
    "    lats = []\n",
    "    for i,shape in enumerate(df.geometry.values):\n",
    "        if shape.geom_type == 'MultiPolygon':\n",
    "            gx = []\n",
    "            gy = []\n",
    "            ng = len(shape.geoms) - 1\n",
    "            for j,member in enumerate(shape.geoms):\n",
    "                xy = np.array(list(member.exterior.coords))\n",
    "                xs = xy[:,0].tolist()\n",
    "                ys = xy[:,1].tolist()\n",
    "                gx.extend(xs)\n",
    "                gy.extend(ys)\n",
    "                if j < ng:\n",
    "                    gx.append(nan)\n",
    "                    gy.append(nan)\n",
    "            lons.append(gx)\n",
    "            lats.append(gy)\n",
    "\n",
    "        else:     \n",
    "            xy = np.array(list(shape.exterior.coords))\n",
    "            xs = xy[:,0].tolist()\n",
    "            ys = xy[:,1].tolist()\n",
    "            lons.append(xs)\n",
    "            lats.append(ys) \n",
    "\n",
    "    return lons,lats"
   ]
  },
  {
   "cell_type": "code",
   "execution_count": 8,
   "metadata": {
    "collapsed": false
   },
   "outputs": [],
   "source": [
    "lons, lats = gpd_bokeh(us48)\n",
    "palette.reverse()\n",
    "color_mapper = LogColorMapper(palette=palette)\n",
    "color2 = sns.color_palette(\"RdBu_r\",48,).as_hex()\n",
    "color3 = sns.color_palette(\"Blues\",48,).as_hex()"
   ]
  },
  {
   "cell_type": "code",
   "execution_count": 9,
   "metadata": {
    "collapsed": false
   },
   "outputs": [],
   "source": [
    "source1 = ColumnDataSource(data=dict(\n",
    "        x=lons,\n",
    "        y=lats,\n",
    "        color = color2,\n",
    "        name=us48.STATE_NAME,\n",
    "        income = us48['y_1929']\n",
    "    ))\n",
    "source2 = ColumnDataSource(data=dict(\n",
    "        x=lons,\n",
    "        y=lats,\n",
    "        color = color3,\n",
    "        name=us48.STATE_NAME,\n",
    "        income = us48['y_1929']\n",
    "    ))\n",
    "\n",
    "TOOLS = \"pan,wheel_zoom,box_zoom,reset,hover,save,tap\"\n",
    "\n",
    "map = figure(title=\"US48\", toolbar_location='right',tools=TOOLS,\n",
    "          plot_width=500, plot_height=350)\n",
    "mapP = map.patches('x', 'y', source=source2,\n",
    "          fill_color='color', fill_alpha=0.7, line_color=\"white\", line_width=0.5)\n",
    "yearLabel = Label(x=50, y=50, x_units='screen', y_units='screen',\n",
    "                 text=str(1929), render_mode='css',text_font_size='35pt', text_color='#eeeeee')\n",
    "\n",
    "map.add_layout(yearLabel)\n",
    "\n",
    "hover = map.select_one(HoverTool)\n",
    "hover.point_policy = \"follow_mouse\"\n",
    "hover.tooltips = [\n",
    "    (\"Name\", \"@name\"),\n",
    "    (\"Income\", \"@income\"),\n",
    "    (\"(Long, Lat)\", \"($x, $y)\"),\n",
    "]\n",
    "#output_file('us_income.html', title=\"us_income.py example\")"
   ]
  },
  {
   "cell_type": "code",
   "execution_count": null,
   "metadata": {
    "collapsed": false
   },
   "outputs": [],
   "source": []
  },
  {
   "cell_type": "code",
   "execution_count": 10,
   "metadata": {
    "collapsed": false
   },
   "outputs": [],
   "source": [
    "def slider_update(attrname, old, new):\n",
    "    year = yearSlider.value\n",
    "    yearLabel.text = str(year)\n",
    "    #mapP.data_source.data = sources1.data  \n",
    "    \n",
    "yearSlider = Slider(start=1929, end=2009, value=1929, step=1, title=\"Year\")\n",
    "yearSlider.on_change('value', slider_update)\n",
    "\n",
    "wbox = widgetbox(yearSlider,width=300)\n",
    "\n"
   ]
  },
  {
   "cell_type": "code",
   "execution_count": 11,
   "metadata": {
    "collapsed": false
   },
   "outputs": [
    {
     "data": {
      "text/plain": [
       "<bokeh.models.renderers.GlyphRenderer at 0x113cf5bd0>"
      ]
     },
     "execution_count": 11,
     "metadata": {},
     "output_type": "execute_result"
    }
   ],
   "source": [
    "\n",
    "incomeList = []\n",
    "for i in xrange(0,48):\n",
    "    incomeList.append(list(us48.iloc[i,10:91]))\n",
    "yearList = []\n",
    "for i in xrange(0,48):\n",
    "    yearList.append(list(np.arange(1929,2010,1)))\n",
    "\n",
    "lines = figure(plot_width=500, plot_height=350)\n",
    "lines.multi_line(yearList,incomeList,color = color2,line_width=1)\n",
    "\n",
    "#show(lines)"
   ]
  },
  {
   "cell_type": "code",
   "execution_count": 12,
   "metadata": {
    "collapsed": false
   },
   "outputs": [],
   "source": [
    "l = layout([\n",
    "  [map,lines],\n",
    "  [wbox],\n",
    "])"
   ]
  },
  {
   "cell_type": "code",
   "execution_count": 13,
   "metadata": {
    "collapsed": false
   },
   "outputs": [],
   "source": [
    "show(l)"
   ]
  },
  {
   "cell_type": "code",
   "execution_count": null,
   "metadata": {
    "collapsed": false
   },
   "outputs": [],
   "source": []
  },
  {
   "cell_type": "code",
   "execution_count": null,
   "metadata": {
    "collapsed": false
   },
   "outputs": [],
   "source": []
  },
  {
   "cell_type": "code",
   "execution_count": null,
   "metadata": {
    "collapsed": false
   },
   "outputs": [],
   "source": []
  },
  {
   "cell_type": "code",
   "execution_count": null,
   "metadata": {
    "collapsed": false
   },
   "outputs": [],
   "source": []
  },
  {
   "cell_type": "code",
   "execution_count": null,
   "metadata": {
    "collapsed": false
   },
   "outputs": [],
   "source": []
  },
  {
   "cell_type": "code",
   "execution_count": null,
   "metadata": {
    "collapsed": true
   },
   "outputs": [],
   "source": []
  }
 ],
 "metadata": {
  "anaconda-cloud": {},
  "kernelspec": {
   "display_name": "Python [conda env:gis441f16]",
   "language": "python",
   "name": "conda-env-gis441f16-py"
  },
  "language_info": {
   "codemirror_mode": {
    "name": "ipython",
    "version": 2
   },
   "file_extension": ".py",
   "mimetype": "text/x-python",
   "name": "python",
   "nbconvert_exporter": "python",
   "pygments_lexer": "ipython2",
   "version": "2.7.12"
  }
 },
 "nbformat": 4,
 "nbformat_minor": 1
}
